{
 "cells": [
  {
   "cell_type": "code",
   "execution_count": null,
   "outputs": [],
   "source": [
    "from google.colab import drive\n",
    "drive.mount('/content/drive')"
   ],
   "metadata": {
    "collapsed": false,
    "pycharm": {
     "name": "#%%\n"
    }
   }
  },
  {
   "cell_type": "code",
   "execution_count": null,
   "outputs": [],
   "source": [
    "import tensorflow as tf\n",
    "import matplotlib.pyplot as plt\n",
    "!pip install gradio\n",
    "import gradio as gr\n",
    "loaded_model = tf.keras.models.load_model(\"/content/drive/MyDrive/hackathon/modelDusuk\")\n",
    "import numpy as np\n",
    "from tensorflow.keras.preprocessing.image import load_img, img_to_array"
   ],
   "metadata": {
    "collapsed": false,
    "pycharm": {
     "name": "#%%\n"
    }
   }
  },
  {
   "cell_type": "code",
   "execution_count": null,
   "outputs": [],
   "source": [
    "def classify_image(img):\n",
    "    image_array = img_to_array(img)\n",
    "    image_array = np.expand_dims(image_array, axis=0)\n",
    "    predictions = loaded_model.predict(image_array)\n",
    "    class_names = ['Mild_Demented', 'Moderate_Demented', 'Non_Demented',\n",
    "                   'Very_Mild_Demented']\n",
    "    predicted_class_index = np.argmax(predictions[0])\n",
    "    predicted_class = class_names[predicted_class_index]\n",
    "    confidence = predictions[0][predicted_class_index]\n",
    "    confidence = confidence*100\n",
    "    ret = f\"{confidence:.2f}%    {predicted_class}\"\n",
    "    return ret\n",
    "\n",
    "\n",
    "image = gr.inputs.Image(shape=(224,224))\n",
    "label = gr.outputs.Label(num_top_classes=1)\n",
    "\n",
    "gr.Interface(fn=classify_image,\n",
    "             inputs=image,\n",
    "             outputs=label,\n",
    "             examples=[\"/content/drive/MyDrive/hackathon/mild_580.jpg\",\"/content/drive/MyDrive/hackathon/mild_815.jpg\",\"/content/drive/MyDrive/hackathon/moderate_9.jpg\",\"/content/drive/MyDrive/hackathon/moderate_8.jpg\",\"/content/drive/MyDrive/hackathon/non_506.jpg\",\"/content/drive/MyDrive/hackathon/non_471.jpg\",\"/content/drive/MyDrive/hackathon/verymild_9.jpg\",\"/content/drive/MyDrive/hackathon/verymild_255.jpg\"]).launch(share=True,debug=True)\n"
   ],
   "metadata": {
    "collapsed": false,
    "pycharm": {
     "name": "#%%\n"
    }
   }
  }
 ],
 "metadata": {
  "kernelspec": {
   "display_name": "Python 3",
   "language": "python",
   "name": "python3"
  },
  "language_info": {
   "codemirror_mode": {
    "name": "ipython",
    "version": 2
   },
   "file_extension": ".py",
   "mimetype": "text/x-python",
   "name": "python",
   "nbconvert_exporter": "python",
   "pygments_lexer": "ipython2",
   "version": "2.7.6"
  }
 },
 "nbformat": 4,
 "nbformat_minor": 0
}